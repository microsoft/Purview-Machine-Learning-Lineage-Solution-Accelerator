{
  "cells": [
    {
      "cell_type": "markdown",
      "source": [
        "Copyright (c) Microsoft. All rights reserved.\r\n",
        "\r\n",
        "Licensed under the MIT license."
      ],
      "metadata": {
        "nteract": {
          "transient": {
            "deleting": false
          }
        }
      }
    },
    {
      "cell_type": "code",
      "source": [
        "from pyapacheatlas.auth import ServicePrincipalAuthentication\n",
        "from pyapacheatlas.core import PurviewClient, AtlasClassification, AtlasEntity, AtlasProcess  \n",
        "from pyapacheatlas.readers import ExcelConfiguration, ExcelReader\n",
        "from pyapacheatlas.core.util import GuidTracker\n",
        "from pyapacheatlas.core import AtlasAttributeDef, AtlasEntity, PurviewClient\n",
        "from pyapacheatlas.core.typedef import EntityTypeDef"
      ],
      "outputs": [],
      "execution_count": null,
      "metadata": {}
    },
    {
      "cell_type": "code",
      "source": [
        "# get SPN details you created in step 2.1 of solution accelerator setup\n",
        "tenant_id = \"<TENANT_ID>\"\n",
        "client_id = \"<CLIENT_ID>\"\n",
        "client_secret = \"<CLIENT_SECRET>\"\n",
        "\n",
        "# get Purview account name from azure portal\n",
        "purview_name = \"<PURVIEW_NAME>\"\n"
      ],
      "outputs": [],
      "execution_count": null,
      "metadata": {}
    },
    {
      "cell_type": "code",
      "source": [
        "# get AML workspace details from azure portal\n",
        "subscription_id = \"<SUBSCRIPTION_ID>\" \n",
        "resource_group = \"<RESOURCE_GROUP>\"\n",
        "workspace_name = \"<WORKSPACE_NAME>\"\n",
        "workspace_region = \"<WORKSPACE_REGION>\"\n"
      ],
      "outputs": [],
      "execution_count": null,
      "metadata": {}
    },
    {
      "cell_type": "code",
      "source": [
        "from pyapacheatlas.auth import ServicePrincipalAuthentication\n",
        "from pyapacheatlas.core import PurviewClient\n",
        "from pyapacheatlas.core.util import GuidTracker\n",
        "\n",
        "# Authenticate to your Atlas server using a Service Principal\n",
        "oauth = ServicePrincipalAuthentication(\n",
        "    tenant_id= tenant_id,\n",
        "    client_id= client_id,\n",
        "    client_secret= client_secret\n",
        ")\n",
        "client = PurviewClient(\n",
        "    account_name = purview_name,\n",
        "    authentication=oauth\n",
        ")\n",
        "guid = GuidTracker()"
      ],
      "outputs": [],
      "execution_count": null,
      "metadata": {}
    },
    {
      "cell_type": "code",
      "source": [
        "# get SPN details you created in step 3.1 of solution accelerator setup\n",
        "aml_client_id = \"<CLIENT_ID>\"\n",
        "aml_client_secret = \"<CLIENT_SECRET>\""
      ],
      "outputs": [],
      "execution_count": null,
      "metadata": {}
    },
    {
      "cell_type": "code",
      "source": [
        "from azureml.core.authentication import ServicePrincipalAuthentication\n",
        "\n",
        "sp = ServicePrincipalAuthentication(tenant_id=tenant_id, \n",
        "                                    service_principal_id=aml_client_id, \n",
        "                                    service_principal_password=aml_client_secret)\n",
        "\n",
        "from azureml.core import Workspace\n",
        "\n",
        "ws = Workspace.get(name=workspace_name,\n",
        "                resource_group = resource_group,\n",
        "                auth=sp,\n",
        "                subscription_id=subscription_id)"
      ],
      "outputs": [],
      "execution_count": null,
      "metadata": {}
    },
    {
      "cell_type": "code",
      "source": [],
      "outputs": [],
      "execution_count": null,
      "metadata": {}
    },
    {
      "cell_type": "code",
      "source": [
        "# We recommend you add your service principal secrets in KeyVault instead of hardcoded values above\n",
        "# Create a linked service for key vault in Synapse Studio \n",
        "# See below code snippet how to access secrets from KeyVault "
      ],
      "outputs": [],
      "execution_count": null,
      "metadata": {}
    },
    {
      "cell_type": "code",
      "source": [
        "# linked_service = \"AzureKeyVault1\" # Azure Key Vault Linked Service name \n",
        "# akv_name = \"<KEYVALUTNAME>\"  # Azure Key Vault name\n",
        "# secret_name = \"<AML-SPN-SECRETNAME>\"  # Azure Key Vault Secret name\n",
        "\n",
        "# # Fetch the key from Azure Key Vault\n",
        "# aml_spn = mssparkutils.credentials.getSecret(\n",
        "#     linkedService=linked_service,\n",
        "#     akvName=akv_name, \n",
        "#     secret=secret_name)\n",
        "\n",
        "# linked_service = \"AzureKeyVault1\" # Azure Key Vault Linked Service name \n",
        "# akv_name = \"<KEYVALUTNAME>\"  # Azure Key Vault name\n",
        "# secret_name = \"<PURVEW-SPN-SECRETNAME>\"  # Azure Key Vault Secret name\n",
        "\n",
        "# # Fetch the key from Azure Key Vault\n",
        "# purview_spn = mssparkutils.credentials.getSecret(\n",
        "#     linkedService=linked_service,\n",
        "#     akvName=akv_name, \n",
        "# #     secret=secret_name)"
      ],
      "outputs": [],
      "execution_count": null,
      "metadata": {}
    },
    {
      "cell_type": "code",
      "source": [
        "# # get SPN details you created in step 2.1 of solution accelerator installation\n",
        "# tenant_id = \"<TENANT_ID>\"\n",
        "# purview_client_id = \"<CLIENT_ID>\"\n",
        "# purview_name = \"<PURVIEW_NAME>\"\n",
        "# purview_client_secret = purview_spn"
      ],
      "outputs": [],
      "execution_count": null,
      "metadata": {}
    },
    {
      "cell_type": "code",
      "source": [
        "# import json\n",
        "# import os\n",
        "# import sys\n",
        "\n",
        "# from pyapacheatlas.auth import ServicePrincipalAuthentication\n",
        "# from pyapacheatlas.core import PurviewClient, AtlasClassification, AtlasEntity, AtlasProcess  \n",
        "# from pyapacheatlas.readers import ExcelConfiguration, ExcelReader\n",
        "# from pyapacheatlas.core.util import GuidTracker\n",
        "# from pyapacheatlas.core import AtlasAttributeDef, AtlasEntity, PurviewClient\n",
        "# from pyapacheatlas.core.typedef import EntityTypeDef\n",
        "\n",
        "# # Authenticate to your Atlas server using a Service Principal\n",
        "# oauth = ServicePrincipalAuthentication(\n",
        "#     tenant_id= tenant_id,\n",
        "#     client_id= purview_client_id,\n",
        "#     client_secret= purview_client_secret\n",
        "# )\n",
        "# client = PurviewClient(\n",
        "#     account_name = purview_name,\n",
        "#     authentication=oauth\n",
        "# )\n",
        "# guid = GuidTracker()"
      ],
      "outputs": [],
      "execution_count": null,
      "metadata": {}
    },
    {
      "cell_type": "code",
      "source": [
        "# # get AML workspace details from azure portal\n",
        "# subscription_id = \"<SUBSCRIPTION_ID>\" \n",
        "# resource_group = \"<RESOURCE_GROUP>\"\n",
        "# workspace_name = \"<WORKSPACE_NAME>\""
      ],
      "outputs": [],
      "execution_count": null,
      "metadata": {}
    },
    {
      "cell_type": "code",
      "source": [
        "# # get SPN details you created in step 2.1 of solution accelerator installation\n",
        "# tenant_id = \"<TENANT_ID>\"\n",
        "# aml_client_id = \"<CLIENT_ID>\"\n",
        "# aml_client_secret = aml_spn"
      ],
      "outputs": [],
      "execution_count": null,
      "metadata": {}
    },
    {
      "cell_type": "code",
      "source": [
        "# # Authentiate to AML\n",
        "\n",
        "# from azureml.core.authentication import ServicePrincipalAuthentication\n",
        "\n",
        "# sp = ServicePrincipalAuthentication(tenant_id=tenant_id, \n",
        "#                                     service_principal_id=aml_client_id, \n",
        "#                                     service_principal_password=aml_client_secret) \n",
        "\n",
        "# from azureml.core import Workspace\n",
        "\n",
        "# ws = Workspace.get(name=workspace_name,\n",
        "#                 resource_group = resource_group,\n",
        "#                 auth=sp,\n",
        "#                 subscription_id=subscription_id)"
      ],
      "outputs": [],
      "execution_count": null,
      "metadata": {}
    }
  ],
  "metadata": {
    "kernelspec": {
      "name": "synapse_pyspark",
      "display_name": "python"
    },
    "language_info": {
      "name": "python"
    },
    "save_output": true,
    "synapse_widget": {
      "version": "0.1",
      "state": {}
    }
  },
  "nbformat": 4,
  "nbformat_minor": 2
}